{
 "cells": [
  {
   "cell_type": "markdown",
   "id": "f7628214",
   "metadata": {},
   "source": [
    "## Importing Packages"
   ]
  },
  {
   "cell_type": "code",
   "execution_count": 1,
   "id": "dc4b720b",
   "metadata": {},
   "outputs": [],
   "source": [
    "import pandas as pd\n",
    "import numpy as np\n",
    "from seaborn import load_dataset"
   ]
  },
  {
   "cell_type": "code",
   "execution_count": 2,
   "id": "41fce5da",
   "metadata": {},
   "outputs": [],
   "source": [
    "import matplotlib.pyplot as plt\n",
    "import seaborn as sns"
   ]
  },
  {
   "cell_type": "markdown",
   "id": "bc9b70be",
   "metadata": {},
   "source": [
    "## loading dataset"
   ]
  },
  {
   "cell_type": "code",
   "execution_count": 3,
   "id": "529d4503",
   "metadata": {},
   "outputs": [
    {
     "data": {
      "text/html": [
       "<div>\n",
       "<style scoped>\n",
       "    .dataframe tbody tr th:only-of-type {\n",
       "        vertical-align: middle;\n",
       "    }\n",
       "\n",
       "    .dataframe tbody tr th {\n",
       "        vertical-align: top;\n",
       "    }\n",
       "\n",
       "    .dataframe thead th {\n",
       "        text-align: right;\n",
       "    }\n",
       "</style>\n",
       "<table border=\"1\" class=\"dataframe\">\n",
       "  <thead>\n",
       "    <tr style=\"text-align: right;\">\n",
       "      <th></th>\n",
       "      <th>survived</th>\n",
       "      <th>pclass</th>\n",
       "      <th>sex</th>\n",
       "      <th>age</th>\n",
       "      <th>sibsp</th>\n",
       "      <th>parch</th>\n",
       "      <th>fare</th>\n",
       "      <th>embarked</th>\n",
       "      <th>class</th>\n",
       "      <th>who</th>\n",
       "      <th>adult_male</th>\n",
       "      <th>deck</th>\n",
       "      <th>embark_town</th>\n",
       "      <th>alive</th>\n",
       "      <th>alone</th>\n",
       "    </tr>\n",
       "  </thead>\n",
       "  <tbody>\n",
       "    <tr>\n",
       "      <th>0</th>\n",
       "      <td>0</td>\n",
       "      <td>3</td>\n",
       "      <td>male</td>\n",
       "      <td>22.0</td>\n",
       "      <td>1</td>\n",
       "      <td>0</td>\n",
       "      <td>7.2500</td>\n",
       "      <td>S</td>\n",
       "      <td>Third</td>\n",
       "      <td>man</td>\n",
       "      <td>True</td>\n",
       "      <td>NaN</td>\n",
       "      <td>Southampton</td>\n",
       "      <td>no</td>\n",
       "      <td>False</td>\n",
       "    </tr>\n",
       "    <tr>\n",
       "      <th>1</th>\n",
       "      <td>1</td>\n",
       "      <td>1</td>\n",
       "      <td>female</td>\n",
       "      <td>38.0</td>\n",
       "      <td>1</td>\n",
       "      <td>0</td>\n",
       "      <td>71.2833</td>\n",
       "      <td>C</td>\n",
       "      <td>First</td>\n",
       "      <td>woman</td>\n",
       "      <td>False</td>\n",
       "      <td>C</td>\n",
       "      <td>Cherbourg</td>\n",
       "      <td>yes</td>\n",
       "      <td>False</td>\n",
       "    </tr>\n",
       "    <tr>\n",
       "      <th>2</th>\n",
       "      <td>1</td>\n",
       "      <td>3</td>\n",
       "      <td>female</td>\n",
       "      <td>26.0</td>\n",
       "      <td>0</td>\n",
       "      <td>0</td>\n",
       "      <td>7.9250</td>\n",
       "      <td>S</td>\n",
       "      <td>Third</td>\n",
       "      <td>woman</td>\n",
       "      <td>False</td>\n",
       "      <td>NaN</td>\n",
       "      <td>Southampton</td>\n",
       "      <td>yes</td>\n",
       "      <td>True</td>\n",
       "    </tr>\n",
       "    <tr>\n",
       "      <th>3</th>\n",
       "      <td>1</td>\n",
       "      <td>1</td>\n",
       "      <td>female</td>\n",
       "      <td>35.0</td>\n",
       "      <td>1</td>\n",
       "      <td>0</td>\n",
       "      <td>53.1000</td>\n",
       "      <td>S</td>\n",
       "      <td>First</td>\n",
       "      <td>woman</td>\n",
       "      <td>False</td>\n",
       "      <td>C</td>\n",
       "      <td>Southampton</td>\n",
       "      <td>yes</td>\n",
       "      <td>False</td>\n",
       "    </tr>\n",
       "    <tr>\n",
       "      <th>4</th>\n",
       "      <td>0</td>\n",
       "      <td>3</td>\n",
       "      <td>male</td>\n",
       "      <td>35.0</td>\n",
       "      <td>0</td>\n",
       "      <td>0</td>\n",
       "      <td>8.0500</td>\n",
       "      <td>S</td>\n",
       "      <td>Third</td>\n",
       "      <td>man</td>\n",
       "      <td>True</td>\n",
       "      <td>NaN</td>\n",
       "      <td>Southampton</td>\n",
       "      <td>no</td>\n",
       "      <td>True</td>\n",
       "    </tr>\n",
       "  </tbody>\n",
       "</table>\n",
       "</div>"
      ],
      "text/plain": [
       "   survived  pclass     sex   age  sibsp  parch     fare embarked  class  \\\n",
       "0         0       3    male  22.0      1      0   7.2500        S  Third   \n",
       "1         1       1  female  38.0      1      0  71.2833        C  First   \n",
       "2         1       3  female  26.0      0      0   7.9250        S  Third   \n",
       "3         1       1  female  35.0      1      0  53.1000        S  First   \n",
       "4         0       3    male  35.0      0      0   8.0500        S  Third   \n",
       "\n",
       "     who  adult_male deck  embark_town alive  alone  \n",
       "0    man        True  NaN  Southampton    no  False  \n",
       "1  woman       False    C    Cherbourg   yes  False  \n",
       "2  woman       False  NaN  Southampton   yes   True  \n",
       "3  woman       False    C  Southampton   yes  False  \n",
       "4    man        True  NaN  Southampton    no   True  "
      ]
     },
     "execution_count": 3,
     "metadata": {},
     "output_type": "execute_result"
    }
   ],
   "source": [
    "# import the titanic data\n",
    "\n",
    "df = load_dataset(name='titanic')\n",
    "\n",
    "df.head()"
   ]
  },
  {
   "cell_type": "code",
   "execution_count": 4,
   "id": "3ff8b039",
   "metadata": {},
   "outputs": [
    {
     "name": "stdout",
     "output_type": "stream",
     "text": [
      "The shape of the df before removing the target column (891, 15)\n"
     ]
    }
   ],
   "source": [
    "print('The shape of the df before removing the target column',df.shape)"
   ]
  },
  {
   "cell_type": "markdown",
   "id": "2413a3e3",
   "metadata": {},
   "source": [
    "## Making the input and the target variables"
   ]
  },
  {
   "cell_type": "code",
   "execution_count": 5,
   "id": "8fe8750c",
   "metadata": {},
   "outputs": [
    {
     "name": "stdout",
     "output_type": "stream",
     "text": [
      "The shape of the df after removing the target column (891, 15)\n"
     ]
    }
   ],
   "source": [
    "# make the target y\n",
    "\n",
    "y = df['survived']\n",
    "\n",
    "# remove the target column from the data\n",
    "\n",
    "df_temp = df.drop(columns='survived')\n",
    "\n",
    "print('The shape of the df after removing the target column',df.shape)"
   ]
  },
  {
   "cell_type": "code",
   "execution_count": 6,
   "id": "e6724899",
   "metadata": {},
   "outputs": [
    {
     "data": {
      "text/plain": [
       "pclass          0.000000\n",
       "sex             0.000000\n",
       "age            19.865320\n",
       "sibsp           0.000000\n",
       "parch           0.000000\n",
       "fare            0.000000\n",
       "embarked        0.224467\n",
       "class           0.000000\n",
       "who             0.000000\n",
       "adult_male      0.000000\n",
       "deck           77.216611\n",
       "embark_town     0.224467\n",
       "alive           0.000000\n",
       "alone           0.000000\n",
       "dtype: float64"
      ]
     },
     "execution_count": 6,
     "metadata": {},
     "output_type": "execute_result"
    }
   ],
   "source": [
    "# check for missing values in the data\n",
    "\n",
    "df_temp.isna().mean() * 100    #missing values in percentages"
   ]
  },
  {
   "cell_type": "markdown",
   "id": "ec5a56a9",
   "metadata": {},
   "source": [
    "**The complete case analysis can only be performed on the embarked column**\n",
    "\n",
    "> To do the comparitive analysis we will also perform the CCA on the age column which has around 20% of the values missing."
   ]
  },
  {
   "cell_type": "markdown",
   "id": "2c4f40c2",
   "metadata": {},
   "source": [
    "## Subset of data for analysis"
   ]
  },
  {
   "cell_type": "code",
   "execution_count": 7,
   "id": "94880515",
   "metadata": {},
   "outputs": [
    {
     "data": {
      "text/html": [
       "<div>\n",
       "<style scoped>\n",
       "    .dataframe tbody tr th:only-of-type {\n",
       "        vertical-align: middle;\n",
       "    }\n",
       "\n",
       "    .dataframe tbody tr th {\n",
       "        vertical-align: top;\n",
       "    }\n",
       "\n",
       "    .dataframe thead th {\n",
       "        text-align: right;\n",
       "    }\n",
       "</style>\n",
       "<table border=\"1\" class=\"dataframe\">\n",
       "  <thead>\n",
       "    <tr style=\"text-align: right;\">\n",
       "      <th></th>\n",
       "      <th>age</th>\n",
       "      <th>embarked</th>\n",
       "      <th>fare</th>\n",
       "      <th>sex</th>\n",
       "      <th>pclass</th>\n",
       "    </tr>\n",
       "  </thead>\n",
       "  <tbody>\n",
       "    <tr>\n",
       "      <th>0</th>\n",
       "      <td>22.0</td>\n",
       "      <td>S</td>\n",
       "      <td>7.2500</td>\n",
       "      <td>male</td>\n",
       "      <td>3</td>\n",
       "    </tr>\n",
       "    <tr>\n",
       "      <th>1</th>\n",
       "      <td>38.0</td>\n",
       "      <td>C</td>\n",
       "      <td>71.2833</td>\n",
       "      <td>female</td>\n",
       "      <td>1</td>\n",
       "    </tr>\n",
       "    <tr>\n",
       "      <th>2</th>\n",
       "      <td>26.0</td>\n",
       "      <td>S</td>\n",
       "      <td>7.9250</td>\n",
       "      <td>female</td>\n",
       "      <td>3</td>\n",
       "    </tr>\n",
       "    <tr>\n",
       "      <th>3</th>\n",
       "      <td>35.0</td>\n",
       "      <td>S</td>\n",
       "      <td>53.1000</td>\n",
       "      <td>female</td>\n",
       "      <td>1</td>\n",
       "    </tr>\n",
       "    <tr>\n",
       "      <th>4</th>\n",
       "      <td>35.0</td>\n",
       "      <td>S</td>\n",
       "      <td>8.0500</td>\n",
       "      <td>male</td>\n",
       "      <td>3</td>\n",
       "    </tr>\n",
       "  </tbody>\n",
       "</table>\n",
       "</div>"
      ],
      "text/plain": [
       "    age embarked     fare     sex  pclass\n",
       "0  22.0        S   7.2500    male       3\n",
       "1  38.0        C  71.2833  female       1\n",
       "2  26.0        S   7.9250  female       3\n",
       "3  35.0        S  53.1000  female       1\n",
       "4  35.0        S   8.0500    male       3"
      ]
     },
     "execution_count": 7,
     "metadata": {},
     "output_type": "execute_result"
    }
   ],
   "source": [
    "# select the columns of the df\n",
    "\n",
    "test_df = df_temp[['age','embarked','fare','sex','pclass']]\n",
    "\n",
    "test_df.head()"
   ]
  },
  {
   "cell_type": "markdown",
   "id": "8933e78d",
   "metadata": {},
   "source": [
    "## Introduction"
   ]
  },
  {
   "cell_type": "markdown",
   "id": "3c302c87",
   "metadata": {},
   "source": [
    "<div style=\"background-color: #e6ffe6; padding: 10px;\">\n",
    "Complete case analysis, also known as listwise deletion, is a data imputation technique used to handle missing values in a dataset.\n",
    "    \n",
    "Only complete cases, i.e., observations without any missing values, are considered for the analysis, and the rest are discarded.\n",
    "    \n",
    "Complete case analysis (CCA) is a data imputation method that involves excluding cases with missing data from the analysis. This means that only **cases with complete data on all variables of interest are included in the analysis**.\n",
    "\n",
    "CCA is a simple and straightforward method, but it **can be biased if the missing data are not missing completely at random (MCAR)**. MCAR means that the probability of a value being missing is not related to any of the other variables in the data set. If the missing data are not MCAR, then CCA can lead to biased estimates of the parameters of interest.\n",
    "\n",
    "For example, suppose we are interested in the relationship between smoking and lung cancer. If we use CCA to analyze a data set of smokers, and we find that there is a positive association between smoking and lung cancer, then we cannot be sure whether this association is causal. It is possible that the missing data are not MCAR, and that the people who are missing data on smoking are more likely to have lung cancer. In this case, CCA would lead to an overestimate of the association between smoking and lung cancer.\n",
    "</div>"
   ]
  },
  {
   "cell_type": "markdown",
   "id": "661ec63e",
   "metadata": {},
   "source": [
    "**In Complete Case Analysis, you remove entire observations (rows) that have missing values in any of the variables of interest.**"
   ]
  },
  {
   "cell_type": "markdown",
   "id": "f3c28799",
   "metadata": {},
   "source": [
    "## Advantages and Disadvantages of using CCA\n",
    "\n",
    "### Advantages"
   ]
  },
  {
   "cell_type": "markdown",
   "id": "65037f11",
   "metadata": {},
   "source": [
    "<div style=\"background-color: #e6f7ff; padding: 10px;\">\n",
    "Advantages of Complete Case Analysis (CCA):\n",
    "\n",
    "1. Simplicity: CCA is easy to implement as it involves excluding observations with missing values without any further manipulation.\n",
    "\n",
    "2. No imputation required: CCA does not require imputing or estimating missing values, making it useful when imputation methods are not readily available or applicable.\n",
    "\n",
    "3. Preserves observed relationships: CCA does not alter the relationships between variables in the original observed data.\n",
    "\n",
    "</div>"
   ]
  },
  {
   "cell_type": "markdown",
   "id": "accdc945",
   "metadata": {},
   "source": [
    "### Disadvantages"
   ]
  },
  {
   "cell_type": "markdown",
   "id": "74ccb393",
   "metadata": {},
   "source": [
    "<div style=\"background-color: #ffe6e6; padding: 10px;\">\n",
    "\n",
    "Disadvantages of Complete Case Analysis (CCA):\n",
    "\n",
    "1. Loss of information: CCA removes observations with missing values, leading to a reduction in sample size and potential loss of valuable information, possibly resulting in biased estimates.\n",
    "\n",
    "2. Biased results: If the missing data is not missing completely at random (MCAR) and is related to the variables under study, CCA can introduce bias into the analysis.\n",
    "\n",
    "3. Reduced statistical power: With a reduced sample size, the statistical power of the analysis might be diminished, making it less likely to detect significant effects or associations.\n",
    "</div>"
   ]
  },
  {
   "cell_type": "markdown",
   "id": "47639f7c",
   "metadata": {},
   "source": [
    "### What is Data completely missing at Random"
   ]
  },
  {
   "cell_type": "markdown",
   "id": "f10c1cef",
   "metadata": {},
   "source": [
    "<div style=\"background-color: #ffe0cc; padding: 10px;\">\n",
    "Data missing completely at random (MCAR) is a type of missing data in which the probability of a value being missing is independent of both the observed and unobserved values. In other words, the missing data are not related to any of the other variables in the dataset.\n",
    "\n",
    "For example, if a survey question is accidentally skipped by some respondents, but not others, the data would be considered MCAR. This is because the probability of skipping the question is not related to any of the other variables in the survey, such as the respondent's age, gender, or income.\n",
    "\n",
    "MCAR is the least problematic type of missing data, as it does not introduce any systematic bias into the analysis. However, it is also the rarest type of missing data. In most cases, missing data is either missing at random (MAR) or missing not at random (MNAR).\n",
    "\n",
    "Here are some examples of data missing completely at random:\n",
    "\n",
    "* Data that is lost or damaged due to chance.\n",
    "* Data that is skipped by respondents due to fatigue or boredom.\n",
    "* Data that is not collected due to a technical error.\n",
    "\n",
    "It is important to note that MCAR is a theoretical concept, and it is rarely possible to prove that data is truly MCAR. However, if there is no evidence to suggest that the missing data is related to any of the other variables in the dataset, then it is reasonable to assume that the data is MCAR.\n",
    "\n",
    "If the data is MCAR, then the most common approach to dealing with missing data is to simply ignore the missing values. This is because the missing values are not related to any of the other variables in the dataset, so they will not introduce any systematic bias into the analysis.\n",
    "\n",
    "However, if the missing data is not MCAR, then ignoring the missing values may introduce bias into the analysis. In this case, it may be necessary to use more complex methods to deal with the missing data, such as multiple imputation or weighting.\n",
    "</div>\n"
   ]
  },
  {
   "cell_type": "markdown",
   "id": "18ad25c5",
   "metadata": {},
   "source": [
    "**As a general rule, if the proportion of missing data is relatively small (e.g., less than 5% of the total data), removing those observations may not significantly impact the results or statistical analyses**"
   ]
  },
  {
   "cell_type": "markdown",
   "id": "f66de425",
   "metadata": {},
   "source": [
    "## Check for which columns missing data is MCAR"
   ]
  },
  {
   "cell_type": "code",
   "execution_count": 8,
   "id": "904aec73",
   "metadata": {},
   "outputs": [
    {
     "name": "stdout",
     "output_type": "stream",
     "text": [
      "Rows of data missing in the age column 177\n",
      "Rows of data missing in the embarked column 2\n"
     ]
    }
   ],
   "source": [
    "# rows of data missing in each column\n",
    "\n",
    "print('Rows of data missing in the age column',test_df['age'].isna().sum())\n",
    "\n",
    "print('Rows of data missing in the embarked column',test_df['embarked'].isna().sum())"
   ]
  },
  {
   "cell_type": "code",
   "execution_count": 11,
   "id": "61165f1d",
   "metadata": {},
   "outputs": [
    {
     "name": "stdout",
     "output_type": "stream",
     "text": [
      "The ratio of missing values that survived 0.005847953216374269\n",
      "The ratio of not missing values that survived 0.9941520467836257\n"
     ]
    }
   ],
   "source": [
    "# ratio of the data missing from the embarked column\n",
    "\n",
    "# for passengers who survived the accident\n",
    "survived_df = df[df['survived'] == 1]['embarked']\n",
    "\n",
    "ratio_missing_embarked = survived_df.isna().sum() / survived_df.shape[0]\n",
    "ratio_present_embarked = survived_df.dropna().shape[0] / survived_df.shape[0]\n",
    "\n",
    "print('The ratio of missing values that survived',ratio_missing_embarked)\n",
    "print('The ratio of not missing values that survived',ratio_present_embarked)"
   ]
  },
  {
   "cell_type": "code",
   "execution_count": 12,
   "id": "8388ad77",
   "metadata": {},
   "outputs": [
    {
     "name": "stdout",
     "output_type": "stream",
     "text": [
      "The ratio of missing values that did not survive 0.0\n",
      "The ratio of not missing values that did not survive 1.0\n"
     ]
    }
   ],
   "source": [
    "# check the spread of data missing from the embarked column\n",
    "\n",
    "# for passengers who survived the accident\n",
    "not_survived_df = df[df['survived'] == 0]['embarked']\n",
    "\n",
    "ratio_missing_embarked = not_survived_df.isna().sum() / not_survived_df.shape[0]\n",
    "ratio_present_embarked = not_survived_df.dropna().shape[0] / not_survived_df.shape[0]\n",
    "\n",
    "print('The ratio of missing values that did not survive',ratio_missing_embarked)\n",
    "print('The ratio of not missing values that did not survive',ratio_present_embarked)"
   ]
  },
  {
   "cell_type": "markdown",
   "id": "29e3c35c",
   "metadata": {},
   "source": [
    "**The data for the embarked column is missing for those passengers who survived and the ratio is also not affected much by the target**\n",
    "\n",
    "- This clearly shows that those two data points might have been missed at random or those two people might not want to share the details."
   ]
  },
  {
   "cell_type": "code",
   "execution_count": 17,
   "id": "4d384d09",
   "metadata": {},
   "outputs": [
    {
     "data": {
      "text/html": [
       "<div>\n",
       "<style scoped>\n",
       "    .dataframe tbody tr th:only-of-type {\n",
       "        vertical-align: middle;\n",
       "    }\n",
       "\n",
       "    .dataframe tbody tr th {\n",
       "        vertical-align: top;\n",
       "    }\n",
       "\n",
       "    .dataframe thead th {\n",
       "        text-align: right;\n",
       "    }\n",
       "</style>\n",
       "<table border=\"1\" class=\"dataframe\">\n",
       "  <thead>\n",
       "    <tr style=\"text-align: right;\">\n",
       "      <th></th>\n",
       "      <th>pclass</th>\n",
       "      <th>sex</th>\n",
       "      <th>age</th>\n",
       "      <th>sibsp</th>\n",
       "      <th>parch</th>\n",
       "      <th>fare</th>\n",
       "      <th>embarked</th>\n",
       "      <th>class</th>\n",
       "      <th>who</th>\n",
       "      <th>adult_male</th>\n",
       "      <th>deck</th>\n",
       "      <th>embark_town</th>\n",
       "      <th>alive</th>\n",
       "      <th>alone</th>\n",
       "    </tr>\n",
       "  </thead>\n",
       "  <tbody>\n",
       "    <tr>\n",
       "      <th>61</th>\n",
       "      <td>1</td>\n",
       "      <td>female</td>\n",
       "      <td>38.0</td>\n",
       "      <td>0</td>\n",
       "      <td>0</td>\n",
       "      <td>80.0</td>\n",
       "      <td>NaN</td>\n",
       "      <td>First</td>\n",
       "      <td>woman</td>\n",
       "      <td>False</td>\n",
       "      <td>B</td>\n",
       "      <td>NaN</td>\n",
       "      <td>yes</td>\n",
       "      <td>True</td>\n",
       "    </tr>\n",
       "    <tr>\n",
       "      <th>829</th>\n",
       "      <td>1</td>\n",
       "      <td>female</td>\n",
       "      <td>62.0</td>\n",
       "      <td>0</td>\n",
       "      <td>0</td>\n",
       "      <td>80.0</td>\n",
       "      <td>NaN</td>\n",
       "      <td>First</td>\n",
       "      <td>woman</td>\n",
       "      <td>False</td>\n",
       "      <td>B</td>\n",
       "      <td>NaN</td>\n",
       "      <td>yes</td>\n",
       "      <td>True</td>\n",
       "    </tr>\n",
       "  </tbody>\n",
       "</table>\n",
       "</div>"
      ],
      "text/plain": [
       "     pclass     sex   age  sibsp  parch  fare embarked  class    who  \\\n",
       "61        1  female  38.0      0      0  80.0      NaN  First  woman   \n",
       "829       1  female  62.0      0      0  80.0      NaN  First  woman   \n",
       "\n",
       "     adult_male deck embark_town alive  alone  \n",
       "61        False    B         NaN   yes   True  \n",
       "829       False    B         NaN   yes   True  "
      ]
     },
     "execution_count": 17,
     "metadata": {},
     "output_type": "execute_result"
    }
   ],
   "source": [
    "# the two data rows missing for the embarked column\n",
    "\n",
    "df_temp[test_df['embarked'].isna()]"
   ]
  },
  {
   "cell_type": "code",
   "execution_count": 9,
   "id": "547e4334",
   "metadata": {},
   "outputs": [
    {
     "name": "stdout",
     "output_type": "stream",
     "text": [
      "The ratio of missing values that survived 0.15204678362573099\n",
      "The ratio of not missing values that survived 0.847953216374269\n"
     ]
    }
   ],
   "source": [
    "# check the spread of data missing from the age column\n",
    "\n",
    "# for passengers who survived the accident\n",
    "survived_df = df[df['survived'] == 1]['age']\n",
    "\n",
    "ratio_missing_age = survived_df.isna().sum() / survived_df.shape[0]\n",
    "ratio_present_age = survived_df.dropna().shape[0] / survived_df.shape[0]\n",
    "\n",
    "print('The ratio of missing values that survived',ratio_missing_age)\n",
    "print('The ratio of not missing values that survived',ratio_present_age)\n"
   ]
  },
  {
   "cell_type": "code",
   "execution_count": 10,
   "id": "a5ea24ea",
   "metadata": {},
   "outputs": [
    {
     "name": "stdout",
     "output_type": "stream",
     "text": [
      "The ratio of missing values that did not survive 0.22768670309653916\n",
      "The ratio of not missing values that did not survive 0.7723132969034608\n"
     ]
    }
   ],
   "source": [
    "# check the spread of data missing from the age column\n",
    "\n",
    "# for passengers who survived the accident\n",
    "not_survived_df = df[df['survived'] == 0]['age']\n",
    "\n",
    "ratio_missing_age = not_survived_df.isna().sum() / not_survived_df.shape[0]\n",
    "ratio_present_age = not_survived_df.dropna().shape[0] / not_survived_df.shape[0]\n",
    "\n",
    "print('The ratio of missing values that did not survive',ratio_missing_age)\n",
    "print('The ratio of not missing values that did not survive',ratio_present_age)\n"
   ]
  },
  {
   "cell_type": "markdown",
   "id": "e9e3e137",
   "metadata": {},
   "source": [
    "**From the above data it can be clearly observed that the data for the embarked column is missing completely at random and is not missing completely at random(MCAR) for the age column and depends on the target column.**"
   ]
  },
  {
   "cell_type": "markdown",
   "id": "efe56c02",
   "metadata": {},
   "source": [
    "## Drop missing rows of the embarked column"
   ]
  },
  {
   "cell_type": "code",
   "execution_count": 18,
   "id": "14544999",
   "metadata": {},
   "outputs": [
    {
     "data": {
      "text/html": [
       "<div>\n",
       "<style scoped>\n",
       "    .dataframe tbody tr th:only-of-type {\n",
       "        vertical-align: middle;\n",
       "    }\n",
       "\n",
       "    .dataframe tbody tr th {\n",
       "        vertical-align: top;\n",
       "    }\n",
       "\n",
       "    .dataframe thead th {\n",
       "        text-align: right;\n",
       "    }\n",
       "</style>\n",
       "<table border=\"1\" class=\"dataframe\">\n",
       "  <thead>\n",
       "    <tr style=\"text-align: right;\">\n",
       "      <th></th>\n",
       "      <th>age</th>\n",
       "      <th>embarked</th>\n",
       "      <th>fare</th>\n",
       "      <th>sex</th>\n",
       "      <th>pclass</th>\n",
       "    </tr>\n",
       "  </thead>\n",
       "  <tbody>\n",
       "    <tr>\n",
       "      <th>0</th>\n",
       "      <td>22.0</td>\n",
       "      <td>S</td>\n",
       "      <td>7.2500</td>\n",
       "      <td>male</td>\n",
       "      <td>3</td>\n",
       "    </tr>\n",
       "    <tr>\n",
       "      <th>1</th>\n",
       "      <td>38.0</td>\n",
       "      <td>C</td>\n",
       "      <td>71.2833</td>\n",
       "      <td>female</td>\n",
       "      <td>1</td>\n",
       "    </tr>\n",
       "    <tr>\n",
       "      <th>2</th>\n",
       "      <td>26.0</td>\n",
       "      <td>S</td>\n",
       "      <td>7.9250</td>\n",
       "      <td>female</td>\n",
       "      <td>3</td>\n",
       "    </tr>\n",
       "    <tr>\n",
       "      <th>3</th>\n",
       "      <td>35.0</td>\n",
       "      <td>S</td>\n",
       "      <td>53.1000</td>\n",
       "      <td>female</td>\n",
       "      <td>1</td>\n",
       "    </tr>\n",
       "    <tr>\n",
       "      <th>4</th>\n",
       "      <td>35.0</td>\n",
       "      <td>S</td>\n",
       "      <td>8.0500</td>\n",
       "      <td>male</td>\n",
       "      <td>3</td>\n",
       "    </tr>\n",
       "    <tr>\n",
       "      <th>...</th>\n",
       "      <td>...</td>\n",
       "      <td>...</td>\n",
       "      <td>...</td>\n",
       "      <td>...</td>\n",
       "      <td>...</td>\n",
       "    </tr>\n",
       "    <tr>\n",
       "      <th>886</th>\n",
       "      <td>27.0</td>\n",
       "      <td>S</td>\n",
       "      <td>13.0000</td>\n",
       "      <td>male</td>\n",
       "      <td>2</td>\n",
       "    </tr>\n",
       "    <tr>\n",
       "      <th>887</th>\n",
       "      <td>19.0</td>\n",
       "      <td>S</td>\n",
       "      <td>30.0000</td>\n",
       "      <td>female</td>\n",
       "      <td>1</td>\n",
       "    </tr>\n",
       "    <tr>\n",
       "      <th>888</th>\n",
       "      <td>NaN</td>\n",
       "      <td>S</td>\n",
       "      <td>23.4500</td>\n",
       "      <td>female</td>\n",
       "      <td>3</td>\n",
       "    </tr>\n",
       "    <tr>\n",
       "      <th>889</th>\n",
       "      <td>26.0</td>\n",
       "      <td>C</td>\n",
       "      <td>30.0000</td>\n",
       "      <td>male</td>\n",
       "      <td>1</td>\n",
       "    </tr>\n",
       "    <tr>\n",
       "      <th>890</th>\n",
       "      <td>32.0</td>\n",
       "      <td>Q</td>\n",
       "      <td>7.7500</td>\n",
       "      <td>male</td>\n",
       "      <td>3</td>\n",
       "    </tr>\n",
       "  </tbody>\n",
       "</table>\n",
       "<p>889 rows × 5 columns</p>\n",
       "</div>"
      ],
      "text/plain": [
       "      age embarked     fare     sex  pclass\n",
       "0    22.0        S   7.2500    male       3\n",
       "1    38.0        C  71.2833  female       1\n",
       "2    26.0        S   7.9250  female       3\n",
       "3    35.0        S  53.1000  female       1\n",
       "4    35.0        S   8.0500    male       3\n",
       "..    ...      ...      ...     ...     ...\n",
       "886  27.0        S  13.0000    male       2\n",
       "887  19.0        S  30.0000  female       1\n",
       "888   NaN        S  23.4500  female       3\n",
       "889  26.0        C  30.0000    male       1\n",
       "890  32.0        Q   7.7500    male       3\n",
       "\n",
       "[889 rows x 5 columns]"
      ]
     },
     "execution_count": 18,
     "metadata": {},
     "output_type": "execute_result"
    }
   ],
   "source": [
    "# perform CCA on the embarked column\n",
    "\n",
    "embarked = test_df.dropna(subset='embarked')\n",
    "\n",
    "embarked"
   ]
  },
  {
   "cell_type": "code",
   "execution_count": 19,
   "id": "b90c7abf",
   "metadata": {},
   "outputs": [
    {
     "data": {
      "text/plain": [
       "S    0.724409\n",
       "C    0.188976\n",
       "Q    0.086614\n",
       "Name: embarked, dtype: float64"
      ]
     },
     "execution_count": 19,
     "metadata": {},
     "output_type": "execute_result"
    }
   ],
   "source": [
    "# proportion of values before removing missing values\n",
    "\n",
    "test_df['embarked'].value_counts(normalize=True)"
   ]
  },
  {
   "cell_type": "code",
   "execution_count": 20,
   "id": "9fe48cf9",
   "metadata": {},
   "outputs": [
    {
     "data": {
      "text/plain": [
       "S    0.724409\n",
       "C    0.188976\n",
       "Q    0.086614\n",
       "Name: embarked, dtype: float64"
      ]
     },
     "execution_count": 20,
     "metadata": {},
     "output_type": "execute_result"
    }
   ],
   "source": [
    "# proportion of values after removing missing values\n",
    "\n",
    "embarked['embarked'].value_counts(normalize=True)"
   ]
  },
  {
   "cell_type": "code",
   "execution_count": 21,
   "id": "8a38d77a",
   "metadata": {},
   "outputs": [
    {
     "data": {
      "text/plain": [
       "male      0.647587\n",
       "female    0.352413\n",
       "Name: sex, dtype: float64"
      ]
     },
     "execution_count": 21,
     "metadata": {},
     "output_type": "execute_result"
    }
   ],
   "source": [
    "# proportion of sex column before removing missing values\n",
    "\n",
    "test_df['sex'].value_counts(normalize=True)"
   ]
  },
  {
   "cell_type": "code",
   "execution_count": 22,
   "id": "02d5cfa4",
   "metadata": {},
   "outputs": [
    {
     "data": {
      "text/plain": [
       "male      0.649044\n",
       "female    0.350956\n",
       "Name: sex, dtype: float64"
      ]
     },
     "execution_count": 22,
     "metadata": {},
     "output_type": "execute_result"
    }
   ],
   "source": [
    "# proportion of values after removing missing values\n",
    "\n",
    "embarked['sex'].value_counts(normalize=True)"
   ]
  },
  {
   "cell_type": "markdown",
   "id": "67648511",
   "metadata": {},
   "source": [
    "**There is no evidence of a substantial change in the proportion of the data**"
   ]
  },
  {
   "cell_type": "code",
   "execution_count": 23,
   "id": "7c31ee48",
   "metadata": {},
   "outputs": [
    {
     "data": {
      "image/png": "[encoded data removed]",
      "text/plain": [
       "<Figure size 640x480 with 1 Axes>"
      ]
     },
     "metadata": {},
     "output_type": "display_data"
    }
   ],
   "source": [
    "# distribution of age column before and after removing the rows containing missing values in the embarked column\n",
    "\n",
    "# plot the first kde plot\n",
    "sns.kdeplot(data=test_df,x='age',label='before imputation')\n",
    "\n",
    "# plot the second kde plot\n",
    "sns.kdeplot(data=embarked,x='age',label='after imputation')\n",
    "\n",
    "plt.legend()\n",
    "plt.show()"
   ]
  },
  {
   "cell_type": "markdown",
   "id": "087d5111",
   "metadata": {},
   "source": [
    "**The number of rows dropped from the data is very less and also the data was MCAR, it does not change the distribution of other columns, such as the age column**"
   ]
  },
  {
   "cell_type": "code",
   "execution_count": 25,
   "id": "134ea38d",
   "metadata": {},
   "outputs": [
    {
     "data": {
      "image/png": "[encoded data removed]",
      "text/plain": [
       "<Figure size 640x480 with 1 Axes>"
      ]
     },
     "metadata": {},
     "output_type": "display_data"
    }
   ],
   "source": [
    "# distribution of fare column before and after removing the rows containing missing values in the embarked column\n",
    "\n",
    "# plot the first kde plot\n",
    "sns.kdeplot(data=test_df,x='fare',label='before imputation')\n",
    "\n",
    "# plot the second kde plot\n",
    "sns.kdeplot(data=embarked,x='fare',label='after imputation')\n",
    "\n",
    "plt.legend()\n",
    "plt.show()"
   ]
  },
  {
   "cell_type": "markdown",
   "id": "cb37ee72",
   "metadata": {},
   "source": [
    "## Drop missing rows of the age column"
   ]
  },
  {
   "cell_type": "code",
   "execution_count": 26,
   "id": "d55ae9c7",
   "metadata": {},
   "outputs": [],
   "source": [
    "# drop the missing values from the age column\n",
    "\n",
    "age = test_df.dropna(subset='age')"
   ]
  },
  {
   "cell_type": "code",
   "execution_count": 40,
   "id": "959af063",
   "metadata": {},
   "outputs": [
    {
     "data": {
      "text/plain": [
       "S    0.724409\n",
       "C    0.188976\n",
       "Q    0.086614\n",
       "Name: Before Imputation, dtype: float64"
      ]
     },
     "execution_count": 40,
     "metadata": {},
     "output_type": "execute_result"
    }
   ],
   "source": [
    "# proportion of values before removing missing values\n",
    "\n",
    "s1 = test_df['embarked'].value_counts(normalize=True)\n",
    "s1.name = 'Before Imputation'\n",
    "s1"
   ]
  },
  {
   "cell_type": "code",
   "execution_count": 41,
   "id": "bce555ca",
   "metadata": {},
   "outputs": [
    {
     "data": {
      "text/plain": [
       "S    0.778090\n",
       "C    0.182584\n",
       "Q    0.039326\n",
       "Name: After Imputation, dtype: float64"
      ]
     },
     "execution_count": 41,
     "metadata": {},
     "output_type": "execute_result"
    }
   ],
   "source": [
    "# proportion of values after removing missing values\n",
    "\n",
    "s2 = age['embarked'].value_counts(normalize=True)\n",
    "s2.name = 'After Imputation'\n",
    "s2"
   ]
  },
  {
   "cell_type": "code",
   "execution_count": 42,
   "id": "55c193dc",
   "metadata": {},
   "outputs": [
    {
     "data": {
      "text/html": [
       "<div>\n",
       "<style scoped>\n",
       "    .dataframe tbody tr th:only-of-type {\n",
       "        vertical-align: middle;\n",
       "    }\n",
       "\n",
       "    .dataframe tbody tr th {\n",
       "        vertical-align: top;\n",
       "    }\n",
       "\n",
       "    .dataframe thead th {\n",
       "        text-align: right;\n",
       "    }\n",
       "</style>\n",
       "<table border=\"1\" class=\"dataframe\">\n",
       "  <thead>\n",
       "    <tr style=\"text-align: right;\">\n",
       "      <th></th>\n",
       "      <th>Before Imputation</th>\n",
       "      <th>After Imputation</th>\n",
       "    </tr>\n",
       "  </thead>\n",
       "  <tbody>\n",
       "    <tr>\n",
       "      <th>S</th>\n",
       "      <td>0.724409</td>\n",
       "      <td>0.778090</td>\n",
       "    </tr>\n",
       "    <tr>\n",
       "      <th>C</th>\n",
       "      <td>0.188976</td>\n",
       "      <td>0.182584</td>\n",
       "    </tr>\n",
       "    <tr>\n",
       "      <th>Q</th>\n",
       "      <td>0.086614</td>\n",
       "      <td>0.039326</td>\n",
       "    </tr>\n",
       "  </tbody>\n",
       "</table>\n",
       "</div>"
      ],
      "text/plain": [
       "   Before Imputation  After Imputation\n",
       "S           0.724409          0.778090\n",
       "C           0.188976          0.182584\n",
       "Q           0.086614          0.039326"
      ]
     },
     "execution_count": 42,
     "metadata": {},
     "output_type": "execute_result"
    }
   ],
   "source": [
    "pd.concat([s1,s2],axis=1)"
   ]
  },
  {
   "cell_type": "markdown",
   "id": "f5ac13e1",
   "metadata": {},
   "source": [
    "**There is a significant change in the proprtion which states that CCA cannot be applied on the age column**"
   ]
  },
  {
   "cell_type": "code",
   "execution_count": 43,
   "id": "b1a6e2a0",
   "metadata": {},
   "outputs": [
    {
     "data": {
      "text/plain": [
       "3    0.551066\n",
       "1    0.242424\n",
       "2    0.206510\n",
       "Name: Before Imputation, dtype: float64"
      ]
     },
     "execution_count": 43,
     "metadata": {},
     "output_type": "execute_result"
    }
   ],
   "source": [
    "# proportion of values before removing missing values\n",
    "\n",
    "s1 = test_df['pclass'].value_counts(normalize=True)\n",
    "s1.name = 'Before Imputation'\n",
    "s1"
   ]
  },
  {
   "cell_type": "code",
   "execution_count": 44,
   "id": "17039082",
   "metadata": {},
   "outputs": [
    {
     "data": {
      "text/plain": [
       "3    0.497199\n",
       "1    0.260504\n",
       "2    0.242297\n",
       "Name: After Imputation, dtype: float64"
      ]
     },
     "execution_count": 44,
     "metadata": {},
     "output_type": "execute_result"
    }
   ],
   "source": [
    "# proportion of values after removing missing values\n",
    "\n",
    "s2 = age['pclass'].value_counts(normalize=True)\n",
    "s2.name = 'After Imputation'\n",
    "s2"
   ]
  },
  {
   "cell_type": "code",
   "execution_count": 45,
   "id": "67232100",
   "metadata": {},
   "outputs": [
    {
     "data": {
      "text/html": [
       "<div>\n",
       "<style scoped>\n",
       "    .dataframe tbody tr th:only-of-type {\n",
       "        vertical-align: middle;\n",
       "    }\n",
       "\n",
       "    .dataframe tbody tr th {\n",
       "        vertical-align: top;\n",
       "    }\n",
       "\n",
       "    .dataframe thead th {\n",
       "        text-align: right;\n",
       "    }\n",
       "</style>\n",
       "<table border=\"1\" class=\"dataframe\">\n",
       "  <thead>\n",
       "    <tr style=\"text-align: right;\">\n",
       "      <th></th>\n",
       "      <th>Before Imputation</th>\n",
       "      <th>After Imputation</th>\n",
       "    </tr>\n",
       "  </thead>\n",
       "  <tbody>\n",
       "    <tr>\n",
       "      <th>3</th>\n",
       "      <td>0.551066</td>\n",
       "      <td>0.497199</td>\n",
       "    </tr>\n",
       "    <tr>\n",
       "      <th>1</th>\n",
       "      <td>0.242424</td>\n",
       "      <td>0.260504</td>\n",
       "    </tr>\n",
       "    <tr>\n",
       "      <th>2</th>\n",
       "      <td>0.206510</td>\n",
       "      <td>0.242297</td>\n",
       "    </tr>\n",
       "  </tbody>\n",
       "</table>\n",
       "</div>"
      ],
      "text/plain": [
       "   Before Imputation  After Imputation\n",
       "3           0.551066          0.497199\n",
       "1           0.242424          0.260504\n",
       "2           0.206510          0.242297"
      ]
     },
     "execution_count": 45,
     "metadata": {},
     "output_type": "execute_result"
    }
   ],
   "source": [
    "pd.concat([s1,s2],axis=1)"
   ]
  },
  {
   "cell_type": "code",
   "execution_count": 46,
   "id": "084fe299",
   "metadata": {},
   "outputs": [
    {
     "data": {
      "text/plain": [
       "male      0.647587\n",
       "female    0.352413\n",
       "Name: Before Imputation, dtype: float64"
      ]
     },
     "execution_count": 46,
     "metadata": {},
     "output_type": "execute_result"
    }
   ],
   "source": [
    "# proportion of values before removing missing values\n",
    "\n",
    "s1 = test_df['sex'].value_counts(normalize=True)\n",
    "s1.name = 'Before Imputation'\n",
    "s1"
   ]
  },
  {
   "cell_type": "code",
   "execution_count": 47,
   "id": "214ae794",
   "metadata": {},
   "outputs": [
    {
     "data": {
      "text/plain": [
       "male      0.634454\n",
       "female    0.365546\n",
       "Name: After Imputation, dtype: float64"
      ]
     },
     "execution_count": 47,
     "metadata": {},
     "output_type": "execute_result"
    }
   ],
   "source": [
    "# proportion of values after removing missing values\n",
    "\n",
    "s2 = age['sex'].value_counts(normalize=True)\n",
    "s2.name = 'After Imputation'\n",
    "s2"
   ]
  },
  {
   "cell_type": "code",
   "execution_count": 48,
   "id": "7a61e8f0",
   "metadata": {},
   "outputs": [
    {
     "data": {
      "text/html": [
       "<div>\n",
       "<style scoped>\n",
       "    .dataframe tbody tr th:only-of-type {\n",
       "        vertical-align: middle;\n",
       "    }\n",
       "\n",
       "    .dataframe tbody tr th {\n",
       "        vertical-align: top;\n",
       "    }\n",
       "\n",
       "    .dataframe thead th {\n",
       "        text-align: right;\n",
       "    }\n",
       "</style>\n",
       "<table border=\"1\" class=\"dataframe\">\n",
       "  <thead>\n",
       "    <tr style=\"text-align: right;\">\n",
       "      <th></th>\n",
       "      <th>Before Imputation</th>\n",
       "      <th>After Imputation</th>\n",
       "    </tr>\n",
       "  </thead>\n",
       "  <tbody>\n",
       "    <tr>\n",
       "      <th>male</th>\n",
       "      <td>0.647587</td>\n",
       "      <td>0.634454</td>\n",
       "    </tr>\n",
       "    <tr>\n",
       "      <th>female</th>\n",
       "      <td>0.352413</td>\n",
       "      <td>0.365546</td>\n",
       "    </tr>\n",
       "  </tbody>\n",
       "</table>\n",
       "</div>"
      ],
      "text/plain": [
       "        Before Imputation  After Imputation\n",
       "male             0.647587          0.634454\n",
       "female           0.352413          0.365546"
      ]
     },
     "execution_count": 48,
     "metadata": {},
     "output_type": "execute_result"
    }
   ],
   "source": [
    "pd.concat([s1,s2],axis=1)"
   ]
  },
  {
   "cell_type": "code",
   "execution_count": 49,
   "id": "e922c808",
   "metadata": {},
   "outputs": [
    {
     "data": {
      "image/png": "[encoded data removed]",
      "text/plain": [
       "<Figure size 1500x800 with 2 Axes>"
      ]
     },
     "metadata": {},
     "output_type": "display_data"
    }
   ],
   "source": [
    "# distribution of the fare column \n",
    "\n",
    "fig,ax = plt.subplots(1,2,figsize=(15,8))\n",
    "\n",
    "# plot the histogram\n",
    "\n",
    "ax[0].hist(test_df['fare'],bins=10,color='green',label='before imputation')\n",
    "ax[0].hist(age['fare'],bins=10,color='red',label='after imputation')\n",
    "ax[0].legend()\n",
    "\n",
    "\n",
    "# plot the kde plot\n",
    "sns.kdeplot(test_df['fare'],color='green',label='before imputation',ax=ax[1])\n",
    "sns.kdeplot(age['fare'],color='red',label='after imputation',ax=ax[1])     \n",
    "ax[1].legend()\n",
    "\n",
    "plt.show()"
   ]
  },
  {
   "cell_type": "markdown",
   "id": "80340f22",
   "metadata": {},
   "source": [
    "**There is a substantial change in the distribution of data in the are column which means that we cannot apply the CCA technique in this kind of scenario**"
   ]
  }
 ],
 "metadata": {
  "kernelspec": {
   "display_name": "Python 3 (ipykernel)",
   "language": "python",
   "name": "python3"
  },
  "language_info": {
   "codemirror_mode": {
    "name": "ipython",
    "version": 3
   },
   "file_extension": ".py",
   "mimetype": "text/x-python",
   "name": "python",
   "nbconvert_exporter": "python",
   "pygments_lexer": "ipython3",
   "version": "3.10.11"
  }
 },
 "nbformat": 4,
 "nbformat_minor": 5
}
